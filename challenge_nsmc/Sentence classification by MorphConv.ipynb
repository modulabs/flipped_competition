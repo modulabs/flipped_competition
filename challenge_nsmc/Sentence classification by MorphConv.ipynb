{
 "cells": [
  {
   "cell_type": "markdown",
   "metadata": {},
   "source": [
    "# Sentence classification by MorphConv\n",
    "Implementation of [Convolutional Neural Networks for Sentence Classification](https://arxiv.org/abs/1408.5882) to classify sentiment of movie review\n",
    "\n",
    "### Explanation of this notebook\n",
    "* Dataset : [Naver sentiment movie corpus v1.0](https://github.com/e9t/nsmc)\n",
    "    + train, validation : splitting `ratings_train.txt` (150k reviews) for train (120k reviews) and validation (30k reviews)\n",
    "    + test : `ratings_test.txt` (50k reviews)\n",
    "* Preprocessing\n",
    "    + Morphological analysis by Mecab wrapped by [konlpy](http://konlpy.org/en/latest/)\n",
    "    + Using [FastText](https://arxiv.org/abs/1607.04606) embedding by [gluonnlp package](https://gluon-nlp.mxnet.io/)"
   ]
  },
  {
   "cell_type": "markdown",
   "metadata": {},
   "source": [
    "### Setup"
   ]
  },
  {
   "cell_type": "code",
   "execution_count": 1,
   "metadata": {},
   "outputs": [
    {
     "name": "stdout",
     "output_type": "stream",
     "text": [
      "1.12.0\n"
     ]
    }
   ],
   "source": [
    "import os, sys\n",
    "import konlpy\n",
    "import gluonnlp as nlp\n",
    "import numpy as np\n",
    "import pandas as pd\n",
    "import tensorflow as tf\n",
    "import itertools\n",
    "from tensorflow import keras\n",
    "from tensorflow.keras.preprocessing.sequence import pad_sequences\n",
    "from tqdm import tqdm\n",
    "from pprint import pprint\n",
    "\n",
    "print(tf.__version__)"
   ]
  },
  {
   "cell_type": "markdown",
   "metadata": {},
   "source": [
    "### Loading dataset"
   ]
  },
  {
   "cell_type": "code",
   "execution_count": 2,
   "metadata": {},
   "outputs": [
    {
     "name": "stdout",
     "output_type": "stream",
     "text": [
      "5 3\n",
      "0 0\n"
     ]
    }
   ],
   "source": [
    "ratings = pd.read_csv('./data/ratings_train.txt', sep = '\\t')[['document', 'label']]\n",
    "ratings_tst = pd.read_csv('./data/ratings_test.txt', sep = '\\t')[['document', 'label']]\n",
    "\n",
    "# ratings, ratings_tst의 document column에 nan 값이 있으므로 이를 빈 문자열로 대체\n",
    "print(sum(ratings.document.isna()), sum(ratings_tst.document.isna()))\n",
    "\n",
    "ratings.document[ratings.document.isna()] = ''\n",
    "ratings_tst.document[ratings_tst.document.isna()] = ''\n",
    "\n",
    "print(sum(ratings.document.isna()), sum(ratings_tst.document.isna()))"
   ]
  },
  {
   "cell_type": "code",
   "execution_count": 3,
   "metadata": {},
   "outputs": [
    {
     "name": "stdout",
     "output_type": "stream",
     "text": [
      "(120000, 2) (30000, 2) (50000, 2)\n"
     ]
    }
   ],
   "source": [
    "val_indices = np.random.choice(a = range(ratings.shape[0]), size = int(ratings.shape[0] * .2),\n",
    "                               replace = False)\n",
    "tr_indices = np.delete(arr = range(ratings.shape[0]), obj = val_indices, axis = 0)\n",
    "\n",
    "ratings_tr = ratings.iloc[tr_indices,:]\n",
    "ratings_val = ratings.iloc[val_indices,:]\n",
    "\n",
    "print(ratings_tr.shape, ratings_val.shape, ratings_tst.shape)"
   ]
  },
  {
   "cell_type": "markdown",
   "metadata": {},
   "source": [
    "### Preprocessing dataset"
   ]
  },
  {
   "cell_type": "code",
   "execution_count": 4,
   "metadata": {},
   "outputs": [],
   "source": [
    "mecab = konlpy.tag.Mecab() # 어떠한 분석기라도 상관이 없음"
   ]
  },
  {
   "cell_type": "code",
   "execution_count": 5,
   "metadata": {},
   "outputs": [
    {
     "name": "stdout",
     "output_type": "stream",
     "text": [
      "CPU times: user 13.3 s, sys: 100 ms, total: 13.4 s\n",
      "Wall time: 13.5 s\n"
     ]
    }
   ],
   "source": [
    "%%time\n",
    "# train\n",
    "X_tr = ratings_tr.document.apply(mecab.morphs).tolist()\n",
    "y_tr = ratings_tr.label.tolist()\n",
    "\n",
    "# validation\n",
    "X_val = ratings_val.document.apply(mecab.morphs).tolist()\n",
    "y_val = ratings_val.label.tolist()\n",
    "\n",
    "# test\n",
    "X_tst = ratings_tst.document.apply(mecab.morphs).tolist()\n",
    "y_tst = ratings_tst.label.tolist()"
   ]
  },
  {
   "cell_type": "markdown",
   "metadata": {},
   "source": [
    "#### Building vocabulary and connecting vocabulary with fasttext embedding\n",
    "https://gluon-nlp.mxnet.io/examples/word_embedding/word_embedding.html"
   ]
  },
  {
   "cell_type": "code",
   "execution_count": 6,
   "metadata": {},
   "outputs": [],
   "source": [
    "# training dataset 기반으로 vocab 생성\n",
    "counter = nlp.data.count_tokens(itertools.chain.from_iterable([c for c in X_tr]))\n",
    "vocab = nlp.Vocab(counter,bos_token=None, eos_token=None, min_freq=15)"
   ]
  },
  {
   "cell_type": "code",
   "execution_count": 7,
   "metadata": {},
   "outputs": [],
   "source": [
    "# Loading fasttext embedding \n",
    "fasttext_simple = nlp.embedding.create('fasttext', source='wiki.ko')\n",
    "\n",
    "# vocab에 embedding 연결\n",
    "vocab.set_embedding(fasttext_simple)"
   ]
  },
  {
   "cell_type": "code",
   "execution_count": 8,
   "metadata": {},
   "outputs": [
    {
     "name": "stdout",
     "output_type": "stream",
     "text": [
      "CPU times: user 2.84 s, sys: 15.8 ms, total: 2.85 s\n",
      "Wall time: 2.85 s\n"
     ]
    }
   ],
   "source": [
    "%%time\n",
    "# final preprocessing\n",
    "\n",
    "X_tr = list(map(lambda sen : [vocab.token_to_idx[token] for token in sen], X_tr))\n",
    "X_tr = pad_sequences(sequences = X_tr, maxlen = 30, padding = 'post', value = 1.)\n",
    "\n",
    "X_val = list(map(lambda sen : [vocab.token_to_idx[token] for token in sen], X_val))\n",
    "X_val = pad_sequences(sequences = X_val, maxlen = 30, padding = 'post', value = 1.)\n",
    "\n",
    "X_tst = list(map(lambda sen : [vocab.token_to_idx[token] for token in sen], X_tst))\n",
    "X_tst = pad_sequences(sequences = X_tst, maxlen = 30, padding = 'post', value = 1.)"
   ]
  },
  {
   "cell_type": "markdown",
   "metadata": {},
   "source": [
    "### Define MorphConv class"
   ]
  },
  {
   "cell_type": "code",
   "execution_count": 9,
   "metadata": {},
   "outputs": [],
   "source": [
    "class MorphConv:\n",
    "    def __init__(self, X, y, n_of_classes, embedding):\n",
    "        \n",
    "        with tf.variable_scope('input_layer'):\n",
    "            self.__X = X\n",
    "            self.__y = y\n",
    "            self.is_training = tf.placeholder(dtype = tf.bool)\n",
    "        \n",
    "        with tf.variable_scope('embedding_layer'):\n",
    "            static_embed = tf.get_variable(name = 'static', initializer = embedding,\n",
    "                                           trainable = False)\n",
    "            non_static_embed = tf.get_variable(name = 'non_static', initializer = embedding,\n",
    "                                               trainable = True)\n",
    "            static_batch = tf.nn.embedding_lookup(params = static_embed, ids = self.__X)\n",
    "            non_static_batch = tf.nn.embedding_lookup(params = non_static_embed, ids = self.__X)\n",
    "            \n",
    "        with tf.variable_scope('convoluion_layer'):\n",
    "            with tf.variable_scope('tri_gram'):\n",
    "                \n",
    "                tri_gram = keras.layers.Conv1D(filters = 100, kernel_size = 3,\n",
    "                                               activation = keras.activations.relu,\n",
    "                                               kernel_initializer = 'he_uniform', padding = 'valid')\n",
    "                static_3 = tri_gram(static_batch)\n",
    "                non_static_3 = tri_gram(non_static_batch)\n",
    "            \n",
    "            with tf.variable_scope('tetra_gram'):\n",
    "                tetra_gram = keras.layers.Conv1D(filters = 100, kernel_size = 4,\n",
    "                                                 activation = keras.activations.relu,\n",
    "                                                 kernel_initializer = 'he_uniform', padding = 'valid')\n",
    "                \n",
    "                static_4 = tetra_gram(static_batch)\n",
    "                non_static_4 = tetra_gram(non_static_batch)\n",
    "            \n",
    "            with tf.variable_scope('penta_gram'):\n",
    "                penta_gram = keras.layers.Conv1D(filters = 100, kernel_size = 5,\n",
    "                                                 activation = keras.activations.relu,\n",
    "                                                 kernel_initializer = 'he_uniform', padding = 'valid')\n",
    "                \n",
    "                static_5 = penta_gram(static_batch)\n",
    "                non_static_5 = penta_gram(non_static_batch)\n",
    "\n",
    "            fmap_3 = tf.reduce_max(static_3 + non_static_3, axis = 1)\n",
    "            fmap_4 = tf.reduce_max(static_4 + non_static_4, axis = 1)\n",
    "            fmap_5 = tf.reduce_max(static_5 + non_static_5, axis = 1)\n",
    "            \n",
    "        with tf.variable_scope('output_layer'):\n",
    "            flattened = tf.concat([fmap_3, fmap_4, fmap_5], axis = -1)\n",
    "            score = keras.layers.Dense(units = n_of_classes,\n",
    "                                       kernel_regularizer = keras.regularizers.l2(.7))(flattened)\n",
    "            \n",
    "            self.__score = keras.layers.Dropout(rate = .5)(score, training = self.is_training)\n",
    "\n",
    "        with tf.variable_scope('loss'):\n",
    "            ce_loss = tf.losses.sparse_softmax_cross_entropy(labels = self.__y, logits = self.__score)\n",
    "            reg_term = tf.reduce_sum(tf.get_collection(tf.GraphKeys.REGULARIZATION_LOSSES))\n",
    "            self.total_loss = ce_loss + reg_term\n",
    "        \n",
    "        with tf.variable_scope('prediction'):\n",
    "            self.prediction = tf.argmax(self.__score, axis = -1)\n",
    "        \n",
    "        # predict instance method for small dataset\n",
    "        def predict(self, sess, x_data, is_training = False):\n",
    "            feed_prediction = {self.__X : x_data, self.is_training : is_training}\n",
    "            return sess.run(self.prediction, feed_dict = feed_prediction)"
   ]
  },
  {
   "cell_type": "markdown",
   "metadata": {},
   "source": [
    "### Create a model of MorphConv"
   ]
  },
  {
   "cell_type": "code",
   "execution_count": 10,
   "metadata": {},
   "outputs": [
    {
     "name": "stdout",
     "output_type": "stream",
     "text": [
      "1200\n"
     ]
    }
   ],
   "source": [
    "# hyper-parameter\n",
    "lr = .003\n",
    "epochs = 5\n",
    "batch_size = 100\n",
    "total_step = int(X_tr.shape[0] / batch_size)\n",
    "print(total_step)"
   ]
  },
  {
   "cell_type": "code",
   "execution_count": 11,
   "metadata": {},
   "outputs": [],
   "source": [
    "# train\n",
    "tr_dataset = tf.data.Dataset.from_tensor_slices((X_tr, y_tr))\n",
    "tr_dataset = tr_dataset.shuffle(buffer_size = 1000000)\n",
    "tr_dataset = tr_dataset.batch(batch_size = batch_size)\n",
    "tr_iterator = tr_dataset.make_initializable_iterator()"
   ]
  },
  {
   "cell_type": "code",
   "execution_count": 12,
   "metadata": {},
   "outputs": [],
   "source": [
    "# val\n",
    "val_dataset = tf.data.Dataset.from_tensor_slices((X_val, y_val))\n",
    "val_dataset = val_dataset.batch(batch_size = batch_size)\n",
    "val_iterator = val_dataset.make_initializable_iterator()"
   ]
  },
  {
   "cell_type": "code",
   "execution_count": 13,
   "metadata": {},
   "outputs": [],
   "source": [
    "# anonymous iterator\n",
    "handle = tf.placeholder(dtype = tf.string)\n",
    "iterator = tf.data.Iterator.from_string_handle(string_handle = handle,\n",
    "                                               output_types = tr_iterator.output_types,\n",
    "                                               output_shapes = tr_iterator.output_shapes)\n",
    "x_data, y_data = iterator.get_next()"
   ]
  },
  {
   "cell_type": "code",
   "execution_count": 14,
   "metadata": {},
   "outputs": [],
   "source": [
    "morph_conv = MorphConv(X = x_data, y = y_data, n_of_classes = 2,\n",
    "                       embedding = vocab.embedding.idx_to_vec.asnumpy())"
   ]
  },
  {
   "cell_type": "code",
   "execution_count": 15,
   "metadata": {},
   "outputs": [],
   "source": [
    "# create training op\n",
    "opt = tf.train.AdamOptimizer(learning_rate = lr)\n",
    "training_op = opt.minimize(loss = morph_conv.total_loss)"
   ]
  },
  {
   "cell_type": "markdown",
   "metadata": {},
   "source": [
    "### Training"
   ]
  },
  {
   "cell_type": "code",
   "execution_count": 16,
   "metadata": {},
   "outputs": [],
   "source": [
    "sess_config = tf.ConfigProto(gpu_options=tf.GPUOptions(allow_growth=True))\n",
    "sess = tf.Session(config = sess_config)\n",
    "sess.run(tf.global_variables_initializer())\n",
    "tr_handle, val_handle = sess.run(fetches = [tr_iterator.string_handle(), val_iterator.string_handle()])"
   ]
  },
  {
   "cell_type": "code",
   "execution_count": 17,
   "metadata": {},
   "outputs": [
    {
     "name": "stderr",
     "output_type": "stream",
     "text": [
      " 20%|██        | 1/5 [00:10<00:40, 10.01s/it]"
     ]
    },
    {
     "name": "stdout",
     "output_type": "stream",
     "text": [
      "epoch :   1, tr_loss : 0.713, val_loss : 0.392\n"
     ]
    },
    {
     "name": "stderr",
     "output_type": "stream",
     "text": [
      "\r",
      " 40%|████      | 2/5 [00:18<00:28,  9.52s/it]"
     ]
    },
    {
     "name": "stdout",
     "output_type": "stream",
     "text": [
      "epoch :   2, tr_loss : 0.476, val_loss : 0.433\n"
     ]
    },
    {
     "name": "stderr",
     "output_type": "stream",
     "text": [
      "\r",
      " 60%|██████    | 3/5 [00:26<00:18,  9.04s/it]"
     ]
    },
    {
     "name": "stdout",
     "output_type": "stream",
     "text": [
      "epoch :   3, tr_loss : 0.434, val_loss : 0.535\n"
     ]
    },
    {
     "name": "stderr",
     "output_type": "stream",
     "text": [
      "\r",
      " 80%|████████  | 4/5 [00:35<00:08,  8.95s/it]"
     ]
    },
    {
     "name": "stdout",
     "output_type": "stream",
     "text": [
      "epoch :   4, tr_loss : 0.440, val_loss : 0.361\n"
     ]
    },
    {
     "name": "stderr",
     "output_type": "stream",
     "text": [
      "\r",
      "100%|██████████| 5/5 [00:42<00:00,  8.63s/it]"
     ]
    },
    {
     "name": "stdout",
     "output_type": "stream",
     "text": [
      "epoch :   5, tr_loss : 0.372, val_loss : 0.380\n",
      "CPU times: user 47.3 s, sys: 8.72 s, total: 56 s\n",
      "Wall time: 42.9 s\n"
     ]
    },
    {
     "name": "stderr",
     "output_type": "stream",
     "text": [
      "\n"
     ]
    }
   ],
   "source": [
    "%%time\n",
    "\n",
    "tr_loss_hist = []\n",
    "val_loss_hist = []\n",
    "\n",
    "for epoch in tqdm(range(epochs)):\n",
    "\n",
    "    avg_tr_loss = 0\n",
    "    avg_val_loss = 0\n",
    "    tr_step = 0\n",
    "    val_step = 0\n",
    "\n",
    "    # for mini-batch training\n",
    "    sess.run(tr_iterator.initializer)    \n",
    "    try:\n",
    "        \n",
    "        while True:\n",
    "            _, tr_loss = sess.run(fetches = [training_op, morph_conv.total_loss],\n",
    "                                             feed_dict = {handle : tr_handle, morph_conv.is_training : True})\n",
    "            avg_tr_loss += tr_loss\n",
    "            tr_step += 1\n",
    "\n",
    "    except tf.errors.OutOfRangeError:\n",
    "        pass\n",
    "\n",
    "    # for validation\n",
    "    sess.run(val_iterator.initializer)\n",
    "    try:\n",
    "        while True:\n",
    "            val_loss = sess.run(fetches = morph_conv.total_loss,\n",
    "                                feed_dict = {handle : val_handle, morph_conv.is_training : False})\n",
    "            avg_val_loss += val_loss\n",
    "            val_step += 1\n",
    "    \n",
    "    except tf.errors.OutOfRangeError:\n",
    "        pass\n",
    "\n",
    "    avg_tr_loss /= tr_step\n",
    "    avg_val_loss /= val_step\n",
    "    tr_loss_hist.append(avg_tr_loss)\n",
    "    val_loss_hist.append(avg_val_loss)\n",
    "    \n",
    "    print('epoch : {:3}, tr_loss : {:.3f}, val_loss : {:.3f}'.format(epoch + 1, avg_tr_loss, avg_val_loss))"
   ]
  },
  {
   "cell_type": "markdown",
   "metadata": {},
   "source": [
    "### Test"
   ]
  },
  {
   "cell_type": "code",
   "execution_count": 18,
   "metadata": {},
   "outputs": [],
   "source": [
    "tst_dataset = tf.data.Dataset.from_tensor_slices((X_tst, y_tst))\n",
    "tst_dataset = tst_dataset.batch(batch_size = batch_size)\n",
    "tst_iterator = tst_dataset.make_initializable_iterator()"
   ]
  },
  {
   "cell_type": "code",
   "execution_count": 19,
   "metadata": {},
   "outputs": [],
   "source": [
    "tst_handle = sess.run(tst_iterator.string_handle())"
   ]
  },
  {
   "cell_type": "code",
   "execution_count": 20,
   "metadata": {},
   "outputs": [],
   "source": [
    "y_tst_hat = np.array([])\n",
    "\n",
    "sess.run(tst_iterator.initializer)\n",
    "\n",
    "try:\n",
    "    while True:\n",
    "        y_tst_tmp = sess.run(morph_conv.prediction,\n",
    "                            feed_dict = {handle : tst_handle,\n",
    "                                         morph_conv.is_training : False})\n",
    "        y_tst_hat= np.append(y_tst_hat,y_tst_tmp)\n",
    "\n",
    "except tf.errors.OutOfRangeError:\n",
    "    pass"
   ]
  },
  {
   "cell_type": "code",
   "execution_count": 21,
   "metadata": {},
   "outputs": [
    {
     "name": "stdout",
     "output_type": "stream",
     "text": [
      "test acc : 85.09%\n"
     ]
    }
   ],
   "source": [
    "print('test acc : {:.2%}'.format(np.mean(y_tst_hat == np.array(y_tst))))"
   ]
  }
 ],
 "metadata": {
  "kernelspec": {
   "display_name": "Python 3",
   "language": "python",
   "name": "python3"
  },
  "language_info": {
   "codemirror_mode": {
    "name": "ipython",
    "version": 3
   },
   "file_extension": ".py",
   "mimetype": "text/x-python",
   "name": "python",
   "nbconvert_exporter": "python",
   "pygments_lexer": "ipython3",
   "version": "3.6.6"
  }
 },
 "nbformat": 4,
 "nbformat_minor": 2
}
